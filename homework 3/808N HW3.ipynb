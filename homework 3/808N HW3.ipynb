{
 "cells": [
  {
   "cell_type": "code",
   "execution_count": 1,
   "metadata": {},
   "outputs": [],
   "source": [
    "import numpy as np\n",
    "import matplotlib.pyplot as plt"
   ]
  },
  {
   "cell_type": "code",
   "execution_count": 2,
   "metadata": {},
   "outputs": [
    {
     "name": "stdout",
     "output_type": "stream",
     "text": [
      "[[0.8612890146501082, 0.37349154462542217]]\n"
     ]
    }
   ],
   "source": [
    "pi = np.pi\n",
    "j = np.arange(0,6)\n",
    "x = (pi/10)*j # x_0,...,x_5\n",
    "def g(x):\n",
    "    return 1-np.cos(x)\n",
    "def ab(start,end):\n",
    "    xx = x[start:end+1]\n",
    "    bmat = np.array([np.sum(g(xx)*xx), np.sum(g(xx))])\n",
    "    Amat = np.array([[np.sum(xx**2), -np.sum(xx)],[np.sum(xx),-end+start-1]])\n",
    "    return np.linalg.solve(Amat, bmat)\n",
    "\n",
    "# solve for local minimizer\n",
    "sol = []\n",
    "for i in range(1,4): # i=0 raise a singular matrix\n",
    "    a,b = ab(0,i)\n",
    "    if a<0 and b/a>=x[i] and b/a<x[i+1]:\n",
    "        sol.append([a,b])\n",
    "    a,b = ab(i,5)\n",
    "    if a>0 and b/a>=x[i-1] and b/a<x[i]:\n",
    "        sol.append([a,b])\n",
    "a,b = ab(0,5)\n",
    "if (a>0)&(b<=0) or (a<0)&(b/a>=x[5]):\n",
    "    sol.append([a,b])\n",
    "    \n",
    "print(sol)"
   ]
  },
  {
   "cell_type": "code",
   "execution_count": 3,
   "metadata": {},
   "outputs": [],
   "source": [
    "# the only local minimizer is the global minimizer\n",
    "a_star,b_star = sol[0]"
   ]
  },
  {
   "cell_type": "code",
   "execution_count": 4,
   "metadata": {},
   "outputs": [],
   "source": [
    "def R(x,a,b):\n",
    "    return np.max(a*x-b,0)\n",
    "def f(a,b,x):\n",
    "    return (1/12)*np.sum((R(x,a,b)-g(x))**2)"
   ]
  },
  {
   "cell_type": "code",
   "execution_count": 5,
   "metadata": {},
   "outputs": [
    {
     "data": {
      "image/png": "[encoded data removed]",
      "text/plain": [
       "<Figure size 288x288 with 1 Axes>"
      ]
     },
     "metadata": {
      "needs_background": "light"
     },
     "output_type": "display_data"
    }
   ],
   "source": [
    "# plot the flat region and global minimizer\n",
    "fig= plt.figure(figsize=(4,4))\n",
    "aa1 = np.linspace(-1.5,0,20)\n",
    "aa2 = np.linspace(0,1.5,20)\n",
    "plt.fill_between(aa1,0,1.5)\n",
    "plt.fill_between(aa2,aa2*x[5],1.5)\n",
    "plt.scatter(a_star,b_star)\n",
    "plt.xlim(-1.5,1.5)\n",
    "plt.ylim(-1.5,1.5)\n",
    "plt.xlabel('a')\n",
    "plt.ylabel('b')\n",
    "plt.show()"
   ]
  },
  {
   "cell_type": "code",
   "execution_count": 6,
   "metadata": {},
   "outputs": [],
   "source": [
    "def grad_fa(a,b,x=x):\n",
    "    res = 0\n",
    "    if a>0:\n",
    "        for j0 in range(0,5):\n",
    "            if b/a>=x[j0] and b/a<x[j0+1]:\n",
    "                xx = x[j0+1:6]\n",
    "                return (1/6)*(np.sum((a*xx-b-g(xx))*xx))\n",
    "        if b<0: \n",
    "            xx = x[0:6]\n",
    "            return (1/6)*(np.sum((a*xx-b-g(xx))*xx))\n",
    "    elif a<0:\n",
    "        for j0 in range(0,5):\n",
    "            if b/a>=x[j0] and b/a<x[j0+1]:\n",
    "                xx = x[0:j0+1]\n",
    "                return (1/6)*(np.sum((a*xx-b-g(xx))*xx))\n",
    "        if b/a>=x[5]: \n",
    "            xx = x[0:6]\n",
    "            return (1/6)*(np.sum((a*xx-b-g(xx))*xx))\n",
    "    return 0\n",
    "\n",
    "\n",
    "def grad_fb(a,b,x=x):\n",
    "    if a>0:\n",
    "        for j0 in range(0,5):\n",
    "            if b/a>=x[j0] and b/a<x[j0+1]:\n",
    "                xx = x[j0+1:6]\n",
    "                return (-1/6)*(np.sum(a*xx-b-g(xx)))\n",
    "        if b<0: \n",
    "            xx = x[0:6]\n",
    "            return (-1/6)*(np.sum(a*xx-b-g(xx)))\n",
    "    elif a<0:\n",
    "        for j0 in range(0,5):\n",
    "            if b/a>=x[j0] and b/a<x[j0+1]:\n",
    "                xx = x[0:j0+1]\n",
    "                return (-1/6)*(np.sum(a*xx-b-g(xx)))\n",
    "        if b/a>=x[5]: \n",
    "            xx = x[0:6]\n",
    "            return (-1/6)*(np.sum(a*xx-b-g(xx)))\n",
    "    return 0\n",
    "def grad_f(a,b,x=x):\n",
    "    return np.array([grad_fa(a,b,x),grad_fb(a,b,x)])"
   ]
  },
  {
   "cell_type": "code",
   "execution_count": 7,
   "metadata": {},
   "outputs": [
    {
     "data": {
      "text/plain": [
       "array([ 0.4108823 , -0.39487746])"
      ]
     },
     "execution_count": 7,
     "metadata": {},
     "output_type": "execute_result"
    }
   ],
   "source": [
    "grad_f(1,0)"
   ]
  },
  {
   "cell_type": "code",
   "execution_count": 10,
   "metadata": {},
   "outputs": [
    {
     "name": "stdout",
     "output_type": "stream",
     "text": [
      "excess max iterations\n"
     ]
    }
   ],
   "source": [
    "## part b Gradient Descent\n",
    "alpha_star = 1.51\n",
    "def grad_des(alpha,a=1,b=0,tol = 1e-4,max_iter = 1e4):\n",
    "    grad_a, grad_b = grad_f(a,b)\n",
    "    iter_ = 0\n",
    "    val = [grad_a**2 + grad_b**2]\n",
    "    while val[iter_] >= tol**2:\n",
    "        iter_ += 1\n",
    "        if iter_>= max_iter:\n",
    "            print('excess max iterations')\n",
    "            return {\"val\":val, \"ab\":[a,b]}   \n",
    "\n",
    "        a -= alpha* grad_a\n",
    "        b -= alpha* grad_b\n",
    "        grad_a, grad_b = grad_f(a,b)\n",
    "        val.append(grad_a**2 + grad_b**2)\n",
    "    return {\"val\":val, \"ab\":[a,b]}\n",
    "\n",
    "out = grad_des(0.99*alpha_star)"
   ]
  },
  {
   "cell_type": "code",
   "execution_count": 9,
   "metadata": {},
   "outputs": [
    {
     "data": {
      "image/png": "[encoded data removed]",
      "text/plain": [
       "<Figure size 288x288 with 1 Axes>"
      ]
     },
     "metadata": {
      "needs_background": "light"
     },
     "output_type": "display_data"
    }
   ],
   "source": [
    "fig = plt.figure(figsize=(4,4))\n",
    "\n",
    "plt.plot(range(len(out['val'])),out['val'])\n",
    "plt.xlabel('iterations')\n",
    "plt.ylabel('grad_f^2')\n",
    "plt.title('Gradient Descent with 0.99alpha*')\n",
    "plt.show()"
   ]
  },
  {
   "cell_type": "code",
   "execution_count": 11,
   "metadata": {},
   "outputs": [
    {
     "name": "stdout",
     "output_type": "stream",
     "text": [
      "excess max iterations\n"
     ]
    },
    {
     "data": {
      "text/plain": [
       "Text(0.5, 1.0, 'StocGrad Descent')"
      ]
     },
     "execution_count": 11,
     "metadata": {},
     "output_type": "execute_result"
    },
    {
     "data": {
      "image/png": "[encoded data removed]",
      "text/plain": [
       "<Figure size 432x288 with 1 Axes>"
      ]
     },
     "metadata": {
      "needs_background": "light"
     },
     "output_type": "display_data"
    }
   ],
   "source": [
    "## part c Stochastic Gradient Descent\n",
    "def Sgrad_f(a,b,x):\n",
    "    # minibatch\n",
    "    if a*x-b>=0:\n",
    "        return [(a*x-b-g(x))*x,-a*x+b+g(x)]\n",
    "    return [0,0]\n",
    "def stoc_grad_des(a=1,b=0,tol=1e-4,max_iter = 10000):\n",
    "    randn = np.random.randint(6,size=max_iter)\n",
    "    iter_ = 0\n",
    "    grad_a, grad_b = Sgrad_f(a,b,x[randn[iter_]])\n",
    "    val = [grad_a**2 + grad_b**2]\n",
    "    \n",
    "    while val[iter_] >= tol**2:\n",
    "        iter_ += 1\n",
    "        if iter_>= max_iter:\n",
    "            print('excess max iterations')\n",
    "            return {'val':val,'ab':[a,b]}  \n",
    "\n",
    "        a -= grad_a/(2*iter_)\n",
    "        b -= grad_b/(2*iter_)\n",
    "        grad_a, grad_b = Sgrad_f(a,b,x[randn[iter_]])\n",
    "        val.append(np.sum(grad_f(a,b)**2))\n",
    "    return {'val':val,'ab':[a,b]}\n",
    "\n",
    "outs = stoc_grad_des()\n",
    "plt.close()\n",
    "\n",
    "plt.plot(range(len(outs['val'])),outs['val'])\n",
    "plt.xlabel('iterations')\n",
    "plt.ylabel('grad_f^2')\n",
    "plt.title('StocGrad Descent')"
   ]
  },
  {
   "cell_type": "markdown",
   "metadata": {},
   "source": [
    "Problem 2"
   ]
  },
  {
   "cell_type": "code",
   "execution_count": 12,
   "metadata": {},
   "outputs": [],
   "source": [
    "def Phi_a(x,y):\n",
    "    return np.exp(-x)*(x+y**3)\n",
    "x,y = np.meshgrid(np.linspace(0,1,10), np.linspace(0,1,10))\n",
    "z = Phi_a(x,y)"
   ]
  },
  {
   "cell_type": "code",
   "execution_count": 13,
   "metadata": {},
   "outputs": [],
   "source": [
    "x = x.reshape(-1,1)\n",
    "y = y.reshape(-1,1)\n",
    "z = z.reshape(-1,1)"
   ]
  },
  {
   "cell_type": "code",
   "execution_count": 14,
   "metadata": {},
   "outputs": [],
   "source": [
    "def A(x,y):\n",
    "    return (1-x)*(y**3)+x*(1+y**3)*np.exp(-1)+\\\n",
    "                (1-y)*x*(np.exp(-x)-np.exp(-1))+\\\n",
    "                y*((1+x)*np.exp(-x)-1+x-2*x*np.exp(-1))\n",
    "def Axx(x,y):\n",
    "    return np.exp(-x)*(x+y-2)\n",
    "\n",
    "def Ayy(x,y):\n",
    "    return 6*y*(1-x+x*np.exp(-1))\n",
    "\n",
    "def Phi(x,y,v,wx,wy,u):\n",
    "    return A(x,y) + x*(1-x)*y*(1-y)*N(x,y,v,wx,wy,u)\n",
    "\n",
    "def f2(x,y):\n",
    "    return np.exp(-x)*(x-2+y**3+6*y)\n",
    "\n",
    "def Acti(x):\n",
    "    return 1/(1+np.exp(-x))\n",
    "def dActi(x):\n",
    "    return np.exp(x)/(1+np.exp(x))**2  \n",
    "def d2Acti(x):\n",
    "    return -np.exp(x)*(np.exp(x)-1)/(1+np.exp(x))**3\n",
    "def d3Acti(x):\n",
    "    return np.exp(x)*(-4*np.exp(x)+np.exp(2*x)+1)/(1+np.exp(x))**4\n",
    "\n",
    "def h(x,y): \n",
    "    return x*(1-x)*y*(1-y)\n",
    "def hx(x,y):     # hy(x,y) = hx(y,x)\n",
    "    return (1-2*x)*y*(1-y)\n",
    "def hxx(x,y):    # hyy(x,y) = hxx(y,x)\n",
    "    return -2*y*(1-y)\n",
    "    \n",
    "\n",
    "def F(v,wx,wy,u,x=x,y=y):\n",
    "    rk = Axx(x,y) + hxx(x,y)*((v*(Acti(wx*x+wy*y+u))))+\\\n",
    "      2*hx(x,y)*((v*wx*(dActi(wx*x+wy*y+u)))) +\\\n",
    "         h(x,y)*((v*(wx**2)*(d2Acti(wx*x+wy*y+u))))+\\\n",
    "        Ayy(x,y)+hxx(y,x)*((v*(Acti(wx*x+wy*y+u)))) + \\\n",
    "         2*hx(y,x)*((v*wy*(dActi(wx*x+wy*y+u)))) +\\\n",
    "         h(x,y)*((v*(wy**2)*(d2Acti(wx*x+wy*y+u)))) - f2(x,y)\n",
    "    return np.mean(rk**2)/2 \n",
    "    \n",
    "def dF_u(v,wx,wy,u,x=x,y=y):\n",
    "    rk = Axx(x,y)+hxx(x,y)*((v*(Acti(wx*x+wy*y+u))))+\\\n",
    "      2*hx(x,y)*((v*wx*(dActi(wx*x+wy*y+u)))) +\\\n",
    "         h(x,y)*((v*(wx**2)*(d2Acti(wx*x+wy*y+u))))+\\\n",
    "        Ayy(x,y)+hxx(y,x)*((v*(Acti(wx*x+wy*y+u)))) + \\\n",
    "         2*hx(y,x)*((v*wy*(dActi(wx*x+wy*y+u)))) +\\\n",
    "         h(x,y)*((v*(wy**2)*(d2Acti(wx*x+wy*y+u)))) - f2(x,y)\n",
    "    drk = hxx(x,y)*(np.sum(v*(dActi(wx*x+wy*y+u))))+\\\n",
    "          2*hx(x,y)*(np.sum(v*wx*(d2Acti(wx*x+wy*y+u)))) +\\\n",
    "          h(x,y)*((v*(wx**2)*(d3Acti(wx*x+wy*y+u))))+\\\n",
    "          hxx(y,x)*(np.sum(v*(dActi(wx*x+wy*y+u)))) + \\\n",
    "            2*hx(y,x)*(np.sum(v*wy*(d2Acti(wx*x+wy*y+u)))) + \\\n",
    "            h(x,y)*(np.sum(v*(wy**2)*(d3Acti(wx*x+wy*y+u)))) \n",
    "    return np.mean(rk*drk)\n",
    "\n",
    "def dF_v(v,wx,wy,u,x=x,y=y):\n",
    "    rk = Axx(x,y)+hxx(x,y)*((v*(Acti(wx*x+wy*y+u))))+\\\n",
    "      2*hx(x,y)*((v*wx*(dActi(wx*x+wy*y+u)))) +\\\n",
    "         h(x,y)*((v*(wx**2)*(d2Acti(wx*x+wy*y+u))))+\\\n",
    "        Ayy(x,y)+hxx(y,x)*((v*(Acti(wx*x+wy*y+u)))) + \\\n",
    "         2*hx(y,x)*((v*wy*(dActi(wx*x+wy*y+u)))) +\\\n",
    "         h(x,y)*((v*(wy**2)*(d2Acti(wx*x+wy*y+u)))) - f2(x,y)\n",
    "    drk = hxx(x,y)*(Acti(wx*x+wy*y+u))+\\\n",
    "         2*hx(x,y)*(np.sum(wx*(dActi(wx*x+wy*y+u)))) + \\\n",
    "        h(x,y)*(np.sum((wx**2)*(d2Acti(wx*x+wy*y+u))))+\\\n",
    "          hxx(y,x)*(np.sum((Acti(wx*x+wy*y+u)))) + \\\n",
    "        2*hx(y,x)*(np.sum(wy*(dActi(wx*x+wy*y+u)))) +\\\n",
    "         h(x,y)*(np.sum((wy**2)*(d2Acti(wx*x+wy*y+u)))) \n",
    "    return np.mean(rk*drk)\n",
    "\n",
    "def dF_wx(v,wx,wy,u,x=x,y=y):\n",
    "    rk = Axx(x,y)+hxx(x,y)*((v*(Acti(wx*x+wy*y+u))))+\\\n",
    "      2*hx(x,y)*((v*wx*(dActi(wx*x+wy*y+u)))) +\\\n",
    "         h(x,y)*((v*(wx**2)*(d2Acti(wx*x+wy*y+u))))+\\\n",
    "        Ayy(x,y)+hxx(y,x)*((v*(Acti(wx*x+wy*y+u)))) + \\\n",
    "         2*hx(y,x)*((v*wy*(dActi(wx*x+wy*y+u)))) +\\\n",
    "         h(x,y)*((v*(wy**2)*(d2Acti(wx*x+wy*y+u)))) - f2(x,y)\n",
    "    drk = hxx(x,y)*(np.sum(v*x*(dActi(wx*x+wy*y+u))))+\\\n",
    "         2*hx(x,y)*(v*(dActi(wx*x+wy*y+u))+ np.sum(x*wx*v*(d2Acti(wx*x+wy*y+u)))) + \\\n",
    "        h(x,y)*(2*wx*v*(d2Acti(wx*x+wy*y+u))+np.sum((wx**2)*x*v*(d3Acti(wx*x+wy*y+u))))+\\\n",
    "          hxx(y,x)*(np.sum(v*x*(dActi(wx*x+wy*y+u)))) + \\\n",
    "        2*hx(y,x)*(np.sum(x*v*wy*(d2Acti(wx*x+wy*y+u)))) + \\\n",
    "         h(x,y)*(np.sum(x*v*(wy**2)*(d3Acti(wx*x+wy*y+u))))\n",
    "    return np.mean(rk*drk)\n",
    "\n",
    "def dF_wy(v,wx,wy,u,x=x,y=y):\n",
    "    rk = Axx(x,y)+hxx(x,y)*((v*(Acti(wx*x+wy*y+u))))+\\\n",
    "      2*hx(x,y)*((v*wx*(dActi(wx*x+wy*y+u)))) +\\\n",
    "         h(x,y)*((v*(wx**2)*(d2Acti(wx*x+wy*y+u))))+\\\n",
    "        Ayy(x,y)+hxx(y,x)*((v*(Acti(wx*x+wy*y+u)))) + \\\n",
    "         2*hx(y,x)*((v*wy*(dActi(wx*x+wy*y+u)))) +\\\n",
    "         h(x,y)*((v*(wy**2)*(d2Acti(wx*x+wy*y+u)))) - f2(x,y)\n",
    "    drk = hxx(x,y)*(np.sum(v*y*(dActi(wx*x+wy*y+u))))+\\\n",
    "         2*hx(x,y)*(v*wx*y*(d2Acti(wx*x+wy*y+u))) + \\\n",
    "        h(x,y)*(2*wx*wx*y*v*(d3Acti(wx*x+wy*y+u)))+\\\n",
    "          hxx(y,x)*(np.sum(v*y*(dActi(wx*x+wy*y+u)))) + \\\n",
    "        2*hx(y,x)*( v*(dActi(wx*x+wy*y+u))+np.sum(y*v*wy*(d2Acti(wx*x+wy*y+u)))) + \\\n",
    "         h(x,y)*( 2*wy*v*(d2Acti(wx*x+wy*y+u))+np.sum(y*v*(wy**2)*(d3Acti(wx*x+wy*y+u))))\n",
    "    return np.mean(rk*drk)"
   ]
  },
  {
   "cell_type": "code",
   "execution_count": 15,
   "metadata": {},
   "outputs": [],
   "source": [
    "def GD(alpha,tol = 1e-4,max_iter = 1e4):\n",
    "    v,wx,wy,u=0.5,0.5,0.5,0.5\n",
    "    grad_v, grad_wx, grad_wy, grad_u = dF_v(v,wx,wy,u),dF_wx(v,wx,wy,u),dF_wy(v,wx,wy,u),dF_u(v,wx,wy,u)\n",
    "    iter_ = 0\n",
    "    val = [grad_v**2 + grad_wx**2+grad_u**2 + grad_wy**2]\n",
    "    val2 = [F(v,wx,wy,u)]\n",
    "    while val[iter_] >= tol**2:\n",
    "        iter_ += 1\n",
    "        if iter_>= max_iter:\n",
    "            print('alpha=',alpha,', excess max iterations')\n",
    "            return {\"dF\":val,\"F\":val2, \"var\":[v,wx,wy,u]}   \n",
    "\n",
    "        u -= alpha* grad_u\n",
    "        v -= alpha* grad_v\n",
    "        wx -= alpha* grad_wy\n",
    "        wy -= alpha* grad_wy\n",
    "        \n",
    "        grad_v, grad_wx, grad_wy, grad_u = dF_v(v,wx,wy,u),dF_wx(v,wx,wy,u),dF_wy(v,wx,wy,u),dF_u(v,wx,wy,u)\n",
    "        val.append(grad_v**2 + grad_wx**2+grad_u**2 + grad_wy**2)\n",
    "        val2.append(F(v,wx,wy,u))\n",
    "    return {\"dF\":val,\"F\":val2, \"var\":[v,wx,wy,u]}\n"
   ]
  },
  {
   "cell_type": "code",
   "execution_count": 16,
   "metadata": {},
   "outputs": [
    {
     "name": "stdout",
     "output_type": "stream",
     "text": [
      "batchsize= 20 , type= 1 , excess max iterations\n"
     ]
    }
   ],
   "source": [
    "def SG(batch_size,redc_type,x=x,y=y,tol=1e-4,max_iter = 10000):\n",
    "    if redc_type == 0:\n",
    "        alpha = 1/(np.arange(1,max_iter+1))\n",
    "    elif redc_type == 1:\n",
    "        alpha = 1/(np.arange(1,max_iter+1))**(3/2)\n",
    "    \n",
    "    randn = np.random.randint(100,size=(max_iter,batch_size))\n",
    "    v,wx,wy,u = 0.5,0.5,0.5,0.5\n",
    "    iter_ = 0\n",
    "    x_,y_ = x[randn[iter_]],y[randn[iter_]]\n",
    "    grad_v, grad_wx, grad_wy, grad_u = dF_v(v,wx,wy,u,x_,y_),dF_wx(v,wx,wy,u,x_,y_),\\\n",
    "                                       dF_wy(v,wx,wy,u,x_,y_),dF_u(v,wx,wy,u,x_,y_)\n",
    "\n",
    "    val = [grad_v**2 + grad_wx**2+grad_u**2 + grad_wy**2]\n",
    "    val2 = [F(v,wx,wy,u)]\n",
    "    while val[iter_] >= tol**2:\n",
    "        iter_ += 1\n",
    "        if iter_>= max_iter:\n",
    "            print('batchsize=',batch_size, ', type=',redc_type,', excess max iterations')\n",
    "            return {\"dF\":val,\"F\":val2, \"var\":[v,wx,wy,u]}   \n",
    "\n",
    "        u -= alpha[iter_]* grad_u\n",
    "        v -= alpha[iter_]* grad_v\n",
    "        wx -= alpha[iter_]* grad_wy\n",
    "        wy -= alpha[iter_]* grad_wy\n",
    "        \n",
    "        x_,y_ = x[randn[iter_]],y[randn[iter_]]\n",
    "        grad_v, grad_wx, grad_wy, grad_u = dF_v(v,wx,wy,u,x_,y_),dF_wx(v,wx,wy,u,x_,y_),\\\n",
    "                                           dF_wy(v,wx,wy,u,x_,y_),dF_u(v,wx,wy,u,x_,y_)\n",
    "        val.append(grad_v**2 + grad_wx**2+grad_u**2 + grad_wy**2)\n",
    "        val2.append(F(v,wx,wy,u))\n",
    "    return {\"dF\":val,\"F\":val2, \"var\":[v,wx,wy,u]} "
   ]
  },
  {
   "cell_type": "code",
   "execution_count": 18,
   "metadata": {},
   "outputs": [
    {
     "data": {
      "image/png": "[encoded data removed]",
      "text/plain": [
       "<Figure size 792x288 with 2 Axes>"
      ]
     },
     "metadata": {
      "needs_background": "light"
     },
     "output_type": "display_data"
    }
   ],
   "source": [
    "# experiment with GD\n",
    "Fs = []\n",
    "alpha = np.arange(0.05,0.3,0.05)\n",
    "for alp in alpha:\n",
    "    outgd = GD(alp)\n",
    "    Fs.append(outgd['F'][-1])\n",
    "Fs = np.array(Fs)\n",
    "Fmin = np.min(Fs)\n",
    "alpmin = alpha[np.argmin(Fs)]\n",
    "outgd = GD(alpmin)\n",
    "FF = outgd['F']\n",
    "print(outgd['var'])\n",
    "\n",
    "fig,ax = plt.subplots(1,2,figsize=(11,4))\n",
    "ax[0].plot(alpha,Fs)\n",
    "ax[0].set_xlabel('alpha')\n",
    "ax[0].set_ylabel('minimal error achieved')\n",
    "ax[0].set_title('GD with different alpha')\n",
    "\n",
    "ax[1].plot(range(len(FF)),FF)\n",
    "ax[1].set_xlabel('iteration')\n",
    "ax[1].set_ylabel('error')\n",
    "ax[1].set_title('best GD with alpha=%f'%alpmin)\n",
    "\n",
    "plt.show()"
   ]
  },
  {
   "cell_type": "code",
   "execution_count": 23,
   "metadata": {},
   "outputs": [
    {
     "name": "stdout",
     "output_type": "stream",
     "text": [
      "[0.7945874900234373, 0.13959343106702912, 0.13959343106702912, 0.37983864377343873]\n",
      "0.00821929136583989\n"
     ]
    }
   ],
   "source": [
    "print(outgd['var'])\n",
    "print(outgd['F'][-1])"
   ]
  },
  {
   "cell_type": "code",
   "execution_count": 21,
   "metadata": {},
   "outputs": [
    {
     "data": {
      "image/png": "[encoded data removed]",
      "text/plain": [
       "<Figure size 792x288 with 2 Axes>"
      ]
     },
     "metadata": {
      "needs_background": "light"
     },
     "output_type": "display_data"
    }
   ],
   "source": [
    "# experiment with SG\n",
    "sFs = []\n",
    "batchs = np.arange(10,50,10)\n",
    "for bs in batchs:\n",
    "    for types in [0,1]:\n",
    "        outsgd = SG(bs,types)\n",
    "        sFs.append([outsgd['F'][-1]])\n",
    "sFs = np.array(sFs)\n",
    "sFmin = np.min(sFs)\n",
    "batchs_min = batchs[np.argmin(sFs)//2]\n",
    "typemin = np.argmin(sFs)%2\n",
    "\n",
    "outsgd = SG(batchs_min,typemin)\n",
    "sF = outsgd['F']\n",
    "print(outsgd['var'])\n",
    "sFs = sFs.reshape(-1,2)\n",
    "\n",
    "fig,ax = plt.subplots(1,2,figsize=(11,4))\n",
    "\n",
    "ax[0].plot(batchs,sFs[:,0],label='type 0 stepsize')\n",
    "ax[0].plot(batchs,sFs[:,1],label='type 1 stepsize')\n",
    "ax[0].set_xlabel('batch size')\n",
    "ax[0].set_ylabel('minimal error achieved')\n",
    "ax[0].legend()\n",
    "ax[0].set_title('SG')\n",
    "\n",
    "ax[1].plot(range(len(sF)),sF)\n",
    "ax[1].set_xlabel('iteration')\n",
    "ax[1].set_ylabel('error')\n",
    "ax[1].set_title('best SG with batchsize=%i'%batchs_min+' type%i'%typemin)\n",
    "\n",
    "plt.show()"
   ]
  },
  {
   "cell_type": "code",
   "execution_count": 24,
   "metadata": {},
   "outputs": [
    {
     "name": "stdout",
     "output_type": "stream",
     "text": [
      "[0.6293527683542801, 0.5190908897154666, 0.5190908897154666, 0.5484806336131787]\n",
      "0.007713823406971468\n"
     ]
    }
   ],
   "source": [
    "print(outsgd['var'])\n",
    "print(outsgd['F'][-1])"
   ]
  }
 ],
 "metadata": {
  "kernelspec": {
   "display_name": "Python 3",
   "language": "python",
   "name": "python3"
  },
  "language_info": {
   "codemirror_mode": {
    "name": "ipython",
    "version": 3
   },
   "file_extension": ".py",
   "mimetype": "text/x-python",
   "name": "python",
   "nbconvert_exporter": "python",
   "pygments_lexer": "ipython3",
   "version": "3.8.5"
  }
 },
 "nbformat": 4,
 "nbformat_minor": 4
}
