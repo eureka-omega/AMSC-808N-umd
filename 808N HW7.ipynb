{
 "cells": [
  {
   "cell_type": "code",
   "execution_count": 1,
   "metadata": {},
   "outputs": [],
   "source": [
    "import numpy as np"
   ]
  },
  {
   "cell_type": "code",
   "execution_count": 2,
   "metadata": {},
   "outputs": [],
   "source": [
    "## from part 1c\n",
    "def fcn(t,s):\n",
    "    return 0.9*(2-np.sqrt(4-3*np.exp(4*np.pi*t*1j)))*np.exp(2*np.pi*t*(-s)*1j) +\\\n",
    "           0.1*(2-np.sqrt(4-3*np.exp(4*np.pi*t*1j)))**3 * np.exp(2*np.pi*t*(-s-2)*1j)\n",
    "\n",
    "def Ps(s, num_partition=100):\n",
    "    # using Trapezoidal rule to evaluate\n",
    "    h = 1/num_partition\n",
    "    ts = np.arange(h,1,h)\n",
    "    val = (fcn(0,s) +2*sum(fcn(ts,s)) +fcn(1,s))*h/2\n",
    "    return val.real"
   ]
  },
  {
   "cell_type": "code",
   "execution_count": 8,
   "metadata": {},
   "outputs": [],
   "source": [
    "## find theoretical probabilities Ps in problem 1\n",
    "set_s = range(2,37,2)\n",
    "Pss = []\n",
    "for s in set_s:\n",
    "    Pss.append(Ps(s))"
   ]
  },
  {
   "cell_type": "code",
   "execution_count": 4,
   "metadata": {},
   "outputs": [],
   "source": [
    "## generate graph\n",
    "from pylab import *\n",
    "import networkx as nx\n",
    "\n",
    "def ggraph(p1,p3):\n",
    "    stubs = 2*(np.random.choice(2,10000,p=[p1,p3]))+1\n",
    "    while sum(stubs)//2 == 1:\n",
    "        stubs = 2*np.random.choice(2,10000,p=[p1,p3])+1\n",
    "    G = nx.random_degree_sequence_graph(list(stubs))\n",
    "    return G"
   ]
  },
  {
   "cell_type": "code",
   "execution_count": 5,
   "metadata": {},
   "outputs": [],
   "source": [
    "## Depth-first search\n",
    "def DFS(G):\n",
    "    N = 10000\n",
    "    visited = np.zeros(N)\n",
    "    parent = -np.ones(N)\n",
    "    discover = np.zeros(N)\n",
    "    finish = np.zeros(N)\n",
    "    \n",
    "    component = -np.ones(N)\n",
    "    cur_component = 1\n",
    "        \n",
    "    tm = 0\n",
    "    \n",
    "    for u in range(N):\n",
    "        if visited[u] == 0:\n",
    "            component[u] = cur_component\n",
    "            tm,discover,visited,component,parent,finish = DFS_visit(G,u,tm,discover,visited,component,parent,finish)\n",
    "            cur_component += 1\n",
    "    \n",
    "    return visited, component, parent, discover, finish  \n",
    "\n",
    "            \n",
    "def DFS_visit(G,u,tm,discover,visited,component,parent,finish):\n",
    "    tm += 1\n",
    "    discover[u] = tm\n",
    "    visited[u] = 0.5\n",
    "    for v in G.neighbors(u):\n",
    "        if visited[v] == 0:\n",
    "            component[v] = component[u]\n",
    "            parent[v] = u\n",
    "            tm,discover,visited,component,parent,finish = DFS_visit(G,v,tm,discover,visited,component,parent,finish)\n",
    "    visited[u] = 1\n",
    "    tm += 1\n",
    "    finish[u] = tm\n",
    "    return tm,discover,visited,component,parent,finish"
   ]
  },
  {
   "cell_type": "code",
   "execution_count": 10,
   "metadata": {},
   "outputs": [
    {
     "data": {
      "text/plain": [
       "Text(0, 0.5, 'probability Ps')"
      ]
     },
     "execution_count": 10,
     "metadata": {},
     "output_type": "execute_result"
    },
    {
     "data": {
      "image/png": "[encoded data removed]",
      "text/plain": [
       "<Figure size 600x600 with 1 Axes>"
      ]
     },
     "metadata": {
      "needs_background": "light"
     },
     "output_type": "display_data"
    }
   ],
   "source": [
    "## graph without giant component\n",
    "# p1 = 0.9\n",
    "# p3 = 0.1\n",
    "# G1 = ggraph(p1,p3)\n",
    "# component1 = DFS(G1)[1]\n",
    "# component_sizes1 = np.unique(component1, return_counts=True)[1]\n",
    "# size1, freq1 = np.unique(component_sizes1, return_counts=True)\n",
    "\n",
    "plt.figure(figsize=(6,6),dpi=100)\n",
    "plt.plot(size1,freq1/sum(freq1),label='numerical')\n",
    "plt.plot(set_s,Pss,label='theoretical')\n",
    "plt.legend()\n",
    "plt.xlabel('s')\n",
    "plt.ylabel('probability Ps')"
   ]
  },
  {
   "cell_type": "code",
   "execution_count": 7,
   "metadata": {},
   "outputs": [
    {
     "name": "stdout",
     "output_type": "stream",
     "text": [
      "0.814\n"
     ]
    }
   ],
   "source": [
    "## graph with giant component\n",
    "p1 = 0.5\n",
    "p3 = 0.5\n",
    "G2 = ggraph(p1,p3)\n",
    "component2 = DFS(G2)[1]\n",
    "component_sizes2 = np.unique(component2, return_counts=True)[1]\n",
    "largest_comp_frac = np.max(component_sizes2)/10000\n",
    "print(largest_comp_frac)"
   ]
  },
  {
   "cell_type": "code",
   "execution_count": 9,
   "metadata": {},
   "outputs": [
    {
     "data": {
      "text/plain": [
       "0.8148148148148148"
      ]
     },
     "execution_count": 9,
     "metadata": {},
     "output_type": "execute_result"
    }
   ],
   "source": [
    "## results I got in part 1d\n",
    "## compare with result in last cell\n",
    "22/27"
   ]
  },
  {
   "cell_type": "code",
   "execution_count": null,
   "metadata": {},
   "outputs": [],
   "source": []
  }
 ],
 "metadata": {
  "kernelspec": {
   "display_name": "Python 3",
   "language": "python",
   "name": "python3"
  },
  "language_info": {
   "codemirror_mode": {
    "name": "ipython",
    "version": 3
   },
   "file_extension": ".py",
   "mimetype": "text/x-python",
   "name": "python",
   "nbconvert_exporter": "python",
   "pygments_lexer": "ipython3",
   "version": "3.8.5"
  }
 },
 "nbformat": 4,
 "nbformat_minor": 4
}
